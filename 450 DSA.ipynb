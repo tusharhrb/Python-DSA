{
 "cells": [
  {
   "cell_type": "markdown",
   "id": "d59635fd-2037-4b90-a62a-064bc0d69c2e",
   "metadata": {},
   "source": [
    "# 450 DSA Solution--------------->"
   ]
  },
  {
   "cell_type": "markdown",
   "id": "ee178089-efb3-43cd-93fd-6fd73ed63772",
   "metadata": {
    "jp-MarkdownHeadingCollapsed": true
   },
   "source": [
    "## ----> Topic-1: Array"
   ]
  },
  {
   "cell_type": "markdown",
   "id": "7fa7571e-966d-43ed-9864-cfd507f32153",
   "metadata": {
    "jp-MarkdownHeadingCollapsed": true
   },
   "source": [
    "#### --> 0. Array Reverse"
   ]
  },
  {
   "cell_type": "code",
   "execution_count": null,
   "id": "fd2b874a-dfee-4499-b550-939a0437b795",
   "metadata": {},
   "outputs": [],
   "source": [
    "'''\n",
    "input: arr[] = {1, 4, 3, 2, 6, 5}  \n",
    "Output: {5, 6, 2, 3, 4, 1}\n",
    "Explanation: The first element 1 moves to last position, the second element 4 moves to second-last and so on.\n",
    "\n",
    "Input: arr[] = {4, 5, 1, 2} \n",
    "Output: {2, 1, 5, 4}\n",
    "Explanation: The first element 4 moves to last position, the second element 5 moves to second last and so on.\n",
    "'''"
   ]
  },
  {
   "cell_type": "code",
   "execution_count": 98,
   "id": "58b5b0af-b21b-4c0c-a1b9-5baf1dc1aa5e",
   "metadata": {},
   "outputs": [
    {
     "name": "stdout",
     "output_type": "stream",
     "text": [
      "[5, 6, 2, 3, 4, 1]\n",
      "[5, 6, 2, 3, 4, 1]\n"
     ]
    }
   ],
   "source": [
    "class reverseArray:\n",
    "    @staticmethod\n",
    "    # mtd-1\n",
    "    def reverseArray1(l_ar1):\n",
    "        start = 0\n",
    "        end = len(l_ar1)-1\n",
    "        while start < end:\n",
    "            l_ar1[start], l_ar1[end] = l_ar1[end], l_ar1[start]\n",
    "            start += 1\n",
    "            end -= 1\n",
    "        return l_ar1\n",
    "\n",
    "    @staticmethod\n",
    "    # mtd-2\n",
    "    def reverseArray2(l_ar1):\n",
    "        return l_ar1[::-1]\n",
    "\n",
    "arr1 = [1, 4, 3, 2, 6, 5]\n",
    "print(reverseArray2(arr1))\n",
    "print(reverseArray.reverseArray1(arr1))"
   ]
  },
  {
   "cell_type": "code",
   "execution_count": 90,
   "id": "bbc6fdee-32d4-4b7f-aa4f-28c1d6cc40df",
   "metadata": {},
   "outputs": [
    {
     "name": "stdout",
     "output_type": "stream",
     "text": [
      "[5, 4, 3, 2, 1]\n",
      "[5, 4, 3, 2, 1]\n",
      "[5, 4, 3, 2, 1]\n"
     ]
    }
   ],
   "source": [
    "class ClassArrayOperations:\n",
    "    result = []  # Class attribute to store the reversed array\n",
    "\n",
    "    @classmethod\n",
    "    def reverseArray1(cls, l_ar1):\n",
    "        start = 0\n",
    "        end = len(l_ar1) - 1\n",
    "        arr_copy = l_ar1[:]\n",
    "        while start < end:\n",
    "            arr_copy[start], arr_copy[end] = arr_copy[end], arr_copy[start]\n",
    "            start += 1\n",
    "            end -= 1\n",
    "        cls.result = arr_copy  # Update class attribute\n",
    "        return arr_copy\n",
    "\n",
    "    @classmethod\n",
    "    def reverseArray2(cls, l_ar1):\n",
    "        cls.result = l_ar1[::-1]  # Store in class attribute\n",
    "        return cls.result\n",
    "\n",
    "# Example usage:\n",
    "arr2 = [1, 2, 3, 4, 5]\n",
    "print(ClassArrayOperations.reverseArray1(arr2))  # Output: [5, 4, 3, 2, 1]\n",
    "print(ClassArrayOperations.reverseArray2(arr2))  # Output: [5, 4, 3, 2, 1]\n",
    "\n",
    "# Accessing the stored result\n",
    "print(ClassArrayOperations.result)  # Output: [5, 4, 3, 2, 1]"
   ]
  },
  {
   "cell_type": "markdown",
   "id": "1f86566a-569e-46cc-8a4a-3ce17fe0fb6a",
   "metadata": {
    "jp-MarkdownHeadingCollapsed": true
   },
   "source": [
    "#### --> 1. Min and Max in Array"
   ]
  },
  {
   "cell_type": "code",
   "execution_count": 12,
   "id": "ae1c0c34-ef5d-4cf8-a38d-575a380b96d7",
   "metadata": {},
   "outputs": [],
   "source": [
    "# Given an array arr. Your task is to find the minimum and maximum elements in the array.\n",
    "# Note: Return an array that contains two elements the first one will be a minimum element and the second will be a maximum of an array.\n",
    "\n",
    "# Examples:\n",
    "# Input: arr = [3, 2, 1, 56, 10000, 167]\n",
    "# Output: 1 10000\n",
    "# Explanation: minimum and maximum elements of array are 1 and 10000.\n",
    "\n",
    "# Input: arr = [1, 345, 234, 21, 56789]\n",
    "# Output: 1 56789\n",
    "# Explanation: minimum and maximum element of array are 1 and 56789.\n",
    "\n",
    "# Input: arr = [56789]\n",
    "# Output: 56789 56789\n",
    "# Explanation: Since the array contains only one element so both min & max are same."
   ]
  },
  {
   "cell_type": "markdown",
   "id": "bcec97f5-9f85-4499-89ff-f9d45617560e",
   "metadata": {},
   "source": [
    "###### mtd-1. Brute force"
   ]
  },
  {
   "cell_type": "code",
   "execution_count": 26,
   "id": "a19ccc6f-064f-4310-98af-f3426e371502",
   "metadata": {},
   "outputs": [],
   "source": [
    "class minMax:\n",
    "    # class minMax(): is different than class minMax:\n",
    "    #----------------------------------------------------------------------------------\n",
    "    @staticmethod\n",
    "    # mtd-1- brute force\n",
    "    def minMax1(l_arr1):\n",
    "        min = 9999999\n",
    "        max = -9999999\n",
    "        # min = max = l_arr1[0]\n",
    "        for ele in l_arr1:\n",
    "            if ele < min:\n",
    "                min = ele\n",
    "            elif ele > max:\n",
    "                max = ele\n",
    "            # else: max = ele wrong approach\n",
    "        return min, max\n",
    "\n",
    "    #---------------------------------------------------------------------------------\n",
    "    @staticmethod\n",
    "    # mtd-2. recursive appoach\n",
    "    def minMax2(arr, low, high):\n",
    "        if low == high:  # Only one element\n",
    "            return arr[low], arr[low]\n",
    "\n",
    "        if high == low + 1:  # Two elements\n",
    "            return (arr[low], arr[high]) if arr[low] < arr[high] else (arr[high], arr[low])\n",
    "\n",
    "        mid = (low + high) // 2\n",
    "        min1, max1 = minMax.minMax2(arr, low, mid)\n",
    "        min2, max2 = minMax.minMax2(arr, mid + 1, high)\n",
    "\n",
    "        return min(min1, min2), max(max1, max2)"
   ]
  },
  {
   "cell_type": "code",
   "execution_count": 27,
   "id": "21d4f0af-fc7c-4690-ad78-27dfc630d2d4",
   "metadata": {},
   "outputs": [
    {
     "name": "stdout",
     "output_type": "stream",
     "text": [
      "(1, 10000)\n",
      "(1, 10000)\n"
     ]
    }
   ],
   "source": [
    "# Example usage:\n",
    "arr2 = [3, 2, 1, 56, 10000, 167]\n",
    "print(minMax.minMax1(arr2))\n",
    "\n",
    "arr = [3, 2, 1, 56, 10000, 167]\n",
    "print(minMax.minMax2(arr, 0, len(arr) - 1))  "
   ]
  },
  {
   "cell_type": "code",
   "execution_count": null,
   "id": "9a80b2bf-6e6b-4c52-8f88-15e3cb6cab6c",
   "metadata": {},
   "outputs": [],
   "source": []
  },
  {
   "cell_type": "code",
   "execution_count": null,
   "id": "836d36c8-2b7d-4a2b-a34d-0ec178f770bf",
   "metadata": {},
   "outputs": [],
   "source": []
  },
  {
   "cell_type": "code",
   "execution_count": null,
   "id": "72935431-04b5-4d81-8846-e0571a693724",
   "metadata": {},
   "outputs": [],
   "source": []
  },
  {
   "cell_type": "code",
   "execution_count": null,
   "id": "4212a4e6-9b37-4ba4-aaf2-742cad8d09a2",
   "metadata": {},
   "outputs": [],
   "source": []
  },
  {
   "cell_type": "code",
   "execution_count": null,
   "id": "9554553a-92f3-426e-bb02-37029eb8bfb5",
   "metadata": {},
   "outputs": [],
   "source": []
  },
  {
   "cell_type": "code",
   "execution_count": null,
   "id": "1dce84e6-14ca-4e69-a787-03ae35b98057",
   "metadata": {},
   "outputs": [],
   "source": []
  },
  {
   "cell_type": "code",
   "execution_count": null,
   "id": "81fa13b6-1501-4a0c-b230-1b53e03b4f65",
   "metadata": {},
   "outputs": [],
   "source": []
  },
  {
   "cell_type": "code",
   "execution_count": null,
   "id": "994350ac-fc33-47dc-9cca-353230ea0493",
   "metadata": {},
   "outputs": [],
   "source": []
  },
  {
   "cell_type": "code",
   "execution_count": null,
   "id": "8466f61a-3237-49ca-99e4-2998c7a78546",
   "metadata": {},
   "outputs": [],
   "source": []
  },
  {
   "cell_type": "code",
   "execution_count": null,
   "id": "15fadf0d-889e-47d8-bc03-fcd6a69a56d2",
   "metadata": {},
   "outputs": [],
   "source": []
  },
  {
   "cell_type": "code",
   "execution_count": null,
   "id": "1ef7ab3f-b786-440c-8b41-c8163809dcde",
   "metadata": {},
   "outputs": [],
   "source": []
  },
  {
   "cell_type": "code",
   "execution_count": null,
   "id": "14f96456-0739-4a60-b601-2c545ec00723",
   "metadata": {},
   "outputs": [],
   "source": []
  },
  {
   "cell_type": "code",
   "execution_count": null,
   "id": "f7112bd5-c98b-477a-b182-9fc8bfec4d91",
   "metadata": {},
   "outputs": [],
   "source": []
  },
  {
   "cell_type": "code",
   "execution_count": null,
   "id": "29d6b099-2b15-43d1-8c42-a40b55b27928",
   "metadata": {},
   "outputs": [],
   "source": []
  },
  {
   "cell_type": "code",
   "execution_count": null,
   "id": "89be0dbc-6b56-45dc-be0d-d91fa9bb667e",
   "metadata": {},
   "outputs": [],
   "source": []
  },
  {
   "cell_type": "code",
   "execution_count": null,
   "id": "230281d3-4edf-4997-8fd1-57084d9fa430",
   "metadata": {},
   "outputs": [],
   "source": []
  },
  {
   "cell_type": "code",
   "execution_count": null,
   "id": "843d2d1f-5313-4395-813f-4d4076130f40",
   "metadata": {},
   "outputs": [],
   "source": []
  },
  {
   "cell_type": "code",
   "execution_count": null,
   "id": "3386f6b2-f34a-4248-ac9d-fcba11eb81c5",
   "metadata": {},
   "outputs": [],
   "source": []
  },
  {
   "cell_type": "code",
   "execution_count": null,
   "id": "cc1462b2-b18c-4d68-a438-c6e065ec7cac",
   "metadata": {},
   "outputs": [],
   "source": []
  },
  {
   "cell_type": "code",
   "execution_count": null,
   "id": "3ee2295b-1ebc-469b-a8f5-db49af04565e",
   "metadata": {},
   "outputs": [],
   "source": []
  },
  {
   "cell_type": "code",
   "execution_count": null,
   "id": "e868cfb0-9cdb-4988-a557-77af0c05115a",
   "metadata": {},
   "outputs": [],
   "source": []
  },
  {
   "cell_type": "code",
   "execution_count": null,
   "id": "ab9b6900-b05d-4792-96e2-5c24b534ff48",
   "metadata": {},
   "outputs": [],
   "source": []
  },
  {
   "cell_type": "code",
   "execution_count": null,
   "id": "a4bc5d3c-08ba-4be4-9328-5bd2c4800e47",
   "metadata": {},
   "outputs": [],
   "source": []
  },
  {
   "cell_type": "code",
   "execution_count": null,
   "id": "3508f8b9-59f4-4c87-a84d-bc2d482ba576",
   "metadata": {},
   "outputs": [],
   "source": []
  },
  {
   "cell_type": "code",
   "execution_count": null,
   "id": "af4bd27f-9b9f-4d8f-954f-8b47dc843341",
   "metadata": {},
   "outputs": [],
   "source": []
  },
  {
   "cell_type": "code",
   "execution_count": null,
   "id": "c06b1fd6-918b-4245-959d-7205a6fd6b3b",
   "metadata": {},
   "outputs": [],
   "source": []
  },
  {
   "cell_type": "code",
   "execution_count": null,
   "id": "2ead4ff3-501f-40e2-b808-7ff51651dd71",
   "metadata": {},
   "outputs": [],
   "source": []
  },
  {
   "cell_type": "code",
   "execution_count": null,
   "id": "e4cfc699-1f70-4f6a-8847-19de70c0b6a3",
   "metadata": {},
   "outputs": [],
   "source": []
  },
  {
   "cell_type": "code",
   "execution_count": null,
   "id": "35c27376-c393-447e-b648-920dbd33526d",
   "metadata": {},
   "outputs": [],
   "source": []
  },
  {
   "cell_type": "code",
   "execution_count": null,
   "id": "99fc3827-bc53-4e6f-b710-194e6ea3eda0",
   "metadata": {},
   "outputs": [],
   "source": []
  },
  {
   "cell_type": "code",
   "execution_count": null,
   "id": "2aeb2956-ca83-4a3a-9adc-530897685473",
   "metadata": {},
   "outputs": [],
   "source": []
  },
  {
   "cell_type": "code",
   "execution_count": null,
   "id": "51d5a4eb-663e-44a1-ae6a-ed8bc5a50c27",
   "metadata": {},
   "outputs": [],
   "source": []
  },
  {
   "cell_type": "code",
   "execution_count": null,
   "id": "747df69e-0022-4d2a-aa4a-1d30b105f247",
   "metadata": {},
   "outputs": [],
   "source": []
  },
  {
   "cell_type": "code",
   "execution_count": null,
   "id": "e6063511-33b3-4a94-b3ea-2ab50aa7c0c1",
   "metadata": {},
   "outputs": [],
   "source": []
  },
  {
   "cell_type": "code",
   "execution_count": null,
   "id": "2b3069d3-6a5d-40cf-97d9-cd6896eee7e4",
   "metadata": {},
   "outputs": [],
   "source": []
  },
  {
   "cell_type": "code",
   "execution_count": null,
   "id": "2a2eabff-2ca7-4c74-a0cb-4fe639c3e270",
   "metadata": {},
   "outputs": [],
   "source": []
  },
  {
   "cell_type": "code",
   "execution_count": null,
   "id": "58fb6b79-eba0-46b0-ad51-427e2fccd262",
   "metadata": {},
   "outputs": [],
   "source": []
  },
  {
   "cell_type": "code",
   "execution_count": null,
   "id": "02215bb3-0e6c-437c-bc36-33e311d43288",
   "metadata": {},
   "outputs": [],
   "source": []
  },
  {
   "cell_type": "code",
   "execution_count": null,
   "id": "da6118ff-8fa8-4d1e-831b-e289924dc73e",
   "metadata": {},
   "outputs": [],
   "source": []
  },
  {
   "cell_type": "code",
   "execution_count": null,
   "id": "70951cc8-21fc-4fd9-8bc9-5c328e445393",
   "metadata": {},
   "outputs": [],
   "source": []
  },
  {
   "cell_type": "code",
   "execution_count": null,
   "id": "ef9b5be2-7887-45de-8d27-fca0127131bf",
   "metadata": {},
   "outputs": [],
   "source": []
  },
  {
   "cell_type": "code",
   "execution_count": null,
   "id": "b57efacd-f90e-4874-a2a6-e173ba41d79c",
   "metadata": {},
   "outputs": [],
   "source": []
  },
  {
   "cell_type": "code",
   "execution_count": null,
   "id": "d3be92bc-f1cb-4ec5-af7b-75792cdbb024",
   "metadata": {},
   "outputs": [],
   "source": []
  },
  {
   "cell_type": "code",
   "execution_count": null,
   "id": "33e304af-469b-43f1-b20c-f65983fc3da0",
   "metadata": {},
   "outputs": [],
   "source": []
  },
  {
   "cell_type": "code",
   "execution_count": null,
   "id": "f10d51ad-e5da-47af-867b-775c6b90669e",
   "metadata": {},
   "outputs": [],
   "source": []
  },
  {
   "cell_type": "code",
   "execution_count": null,
   "id": "37f78f89-58e4-4fcb-9b95-0b90be58cb09",
   "metadata": {},
   "outputs": [],
   "source": []
  },
  {
   "cell_type": "code",
   "execution_count": null,
   "id": "26bac989-68dc-419d-a70c-c854daff2de8",
   "metadata": {},
   "outputs": [],
   "source": []
  },
  {
   "cell_type": "code",
   "execution_count": null,
   "id": "31da3e7d-3702-4d62-b960-2562dfc21f47",
   "metadata": {},
   "outputs": [],
   "source": []
  },
  {
   "cell_type": "markdown",
   "id": "0b44a950-826c-4f6f-8279-124111450a8b",
   "metadata": {
    "jp-MarkdownHeadingCollapsed": true
   },
   "source": [
    "## ----> Topic-2: Matrix"
   ]
  },
  {
   "cell_type": "code",
   "execution_count": null,
   "id": "b24a4094-76dc-468b-a32f-9832164406b6",
   "metadata": {},
   "outputs": [],
   "source": []
  },
  {
   "cell_type": "code",
   "execution_count": null,
   "id": "45b91cb7-e40e-4482-8143-cd279595d350",
   "metadata": {},
   "outputs": [],
   "source": []
  },
  {
   "cell_type": "code",
   "execution_count": null,
   "id": "71bdf6d4-0ee5-4da6-8916-ac707d315e9e",
   "metadata": {},
   "outputs": [],
   "source": []
  },
  {
   "cell_type": "markdown",
   "id": "38d30318-a925-4364-94fc-90e9b3554d5d",
   "metadata": {},
   "source": [
    "## ----> Topic-3: String"
   ]
  },
  {
   "cell_type": "markdown",
   "id": "2a9b2330-4f29-4b20-a90c-148a8122f33d",
   "metadata": {
    "jp-MarkdownHeadingCollapsed": true
   },
   "source": [
    "#### --> 1. Reverse a String"
   ]
  },
  {
   "cell_type": "code",
   "execution_count": 6,
   "id": "c7623c6b-174d-427d-a340-2b0364e0ac67",
   "metadata": {},
   "outputs": [
    {
     "name": "stdout",
     "output_type": "stream",
     "text": [
      "['p', 'w', 'e', 'd', 'n', '2', 'i', 'u', '3']\n"
     ]
    }
   ],
   "source": [
    "def reverseString1(s):\n",
    "    \"\"\"\n",
    "    :type s: List[str]\n",
    "    :rtype: None Do not return anything, modify s in-place instead.\n",
    "    \"\"\"\n",
    "    for i in range(0, len(s), 1):\n",
    "        for j in range(len(s)-1, 0, -1):\n",
    "            if i<j:\n",
    "                s[i], s[j] = s[j], s[i]\n",
    "                i += 1\n",
    "            else:\n",
    "                return s\n",
    "\n",
    "a = '3ui2ndp'\n",
    "a_list = [ele for ele in a]\n",
    "a_list = ['3', 'u', 'i', '2', 'n', 'd', 'e', 'w', 'p']\n",
    "print(reverseString1(a_list))"
   ]
  },
  {
   "cell_type": "code",
   "execution_count": 7,
   "id": "05769cc5-1285-4e32-a28f-8b82ba366acd",
   "metadata": {},
   "outputs": [
    {
     "name": "stdout",
     "output_type": "stream",
     "text": [
      "['p', 'w', 'e', 'd', 'n', '2', 'i', 'u', '3']\n"
     ]
    }
   ],
   "source": [
    "a = '3ui2ndp'\n",
    "a_list = [ele for ele in a]\n",
    "a_list = ['3', 'u', 'i', '2', 'n', 'd', 'e', 'w', 'p']\n",
    "print(reverseString1(a_list))"
   ]
  },
  {
   "cell_type": "code",
   "execution_count": 8,
   "id": "f2b2f858-deb8-4d32-8c21-ba3735f44a64",
   "metadata": {},
   "outputs": [],
   "source": [
    "# Using string slicing to reverse the string\n",
    "def reverseString2(s):\n",
    "    return s[::-1]"
   ]
  },
  {
   "cell_type": "code",
   "execution_count": 9,
   "id": "95b0bfcf-bd63-43b0-89aa-d5fc073b3f9f",
   "metadata": {},
   "outputs": [
    {
     "name": "stdout",
     "output_type": "stream",
     "text": [
      "2wedn2iu3\n"
     ]
    }
   ],
   "source": [
    "# Example usage\n",
    "a = '3ui2ndew2'\n",
    "reversed_string = reverseString2(a)\n",
    "print(reversed_string)  # Output: \"olleh\""
   ]
  },
  {
   "cell_type": "code",
   "execution_count": 27,
   "id": "9add8ff7-b380-4b21-ab73-c5684f135450",
   "metadata": {},
   "outputs": [],
   "source": [
    "def reverseString3(s):\n",
    "    for i in range(0, len(s), 1):\n",
    "        for j in range(len(s)-1, 0, -1):\n",
    "            if i<j:\n",
    "                s[i], s[j] = s[j], s[i]\n",
    "                i += 1\n",
    "            else: return s"
   ]
  },
  {
   "cell_type": "code",
   "execution_count": 28,
   "id": "58d607da-12ae-455a-9957-61990523a1f9",
   "metadata": {},
   "outputs": [
    {
     "name": "stdout",
     "output_type": "stream",
     "text": [
      "['n', 'a', 'M', 'r', 'e', 'p', 'u', 'S']\n"
     ]
    }
   ],
   "source": [
    "m = 'SuperMan'\n",
    "lst = [ele for ele in m]\n",
    "print(reverseString3(lst))"
   ]
  },
  {
   "cell_type": "markdown",
   "id": "c1ac5259-377f-4061-b720-9fc456fd840c",
   "metadata": {
    "jp-MarkdownHeadingCollapsed": true
   },
   "source": [
    "#### 2. Check whether a String is Palindrome or not"
   ]
  },
  {
   "cell_type": "code",
   "execution_count": null,
   "id": "cfeaa857-8a60-429e-810a-b0d218aea6fe",
   "metadata": {},
   "outputs": [],
   "source": [
    "'''Input: s = \"abba\"\n",
    "Output: true'''"
   ]
  },
  {
   "cell_type": "markdown",
   "id": "6428d63f-0c0c-408b-9372-8241854c5e16",
   "metadata": {
    "jp-MarkdownHeadingCollapsed": true
   },
   "source": [
    "###### mtd-1 by brute force"
   ]
  },
  {
   "cell_type": "code",
   "execution_count": 77,
   "id": "795f0793-b9f7-419c-a697-635058ec7ff4",
   "metadata": {},
   "outputs": [
    {
     "name": "stdout",
     "output_type": "stream",
     "text": [
      "0\n",
      "1\n"
     ]
    }
   ],
   "source": [
    "def isPalindrome1(S):\n",
    "    # code here\n",
    "    i, j = 0, len(S)-1\n",
    "    a = None\n",
    "    a = True # if given string is empty then no error\n",
    "    while i < j:\n",
    "        if S[i] == S[j]:\n",
    "            a = True\n",
    "        else:\n",
    "            return int(False)\n",
    "        i += 1\n",
    "        j -= 1\n",
    "    if i == j:\n",
    "        a = True # redundant code\n",
    "    return int(a)\n",
    "\n",
    "s1 = \"abb\"\n",
    "s2 = \"abba\"\n",
    "print(isPalindrome1(s1))\n",
    "print(isPalindrome1(s2))"
   ]
  },
  {
   "cell_type": "markdown",
   "id": "4ae9849a-6242-4986-bd92-823f3c1c489b",
   "metadata": {
    "jp-MarkdownHeadingCollapsed": true
   },
   "source": [
    "###### mtd-2. optimized"
   ]
  },
  {
   "cell_type": "code",
   "execution_count": null,
   "id": "7d0198a9-9a22-4765-a1ae-29acfbdc49df",
   "metadata": {},
   "outputs": [],
   "source": [
    "def isPalindrome(self, S):\n",
    "    # code here\n",
    "    i, j = 0, len(S)-1\n",
    "    while i < j:\n",
    "        if S[i] != S[j]:\n",
    "            return 0\n",
    "        i += 1\n",
    "        j -= 1\n",
    "    return 1"
   ]
  },
  {
   "cell_type": "markdown",
   "id": "edb780d7-96de-4e2f-9efe-00e2da1c0447",
   "metadata": {
    "jp-MarkdownHeadingCollapsed": true
   },
   "source": [
    "###### mtd-3. most efficient"
   ]
  },
  {
   "cell_type": "code",
   "execution_count": 80,
   "id": "4b3f423b-5389-473f-8405-c2229f79692c",
   "metadata": {},
   "outputs": [
    {
     "name": "stdout",
     "output_type": "stream",
     "text": [
      "False\n",
      "True\n",
      "0\n",
      "1\n"
     ]
    }
   ],
   "source": [
    "def isPalindrome3(s):\n",
    "    return s == s[::-1]\n",
    "\n",
    "def isPalindrome4(s):\n",
    "    if s == s[::-1]:\n",
    "        return 1\n",
    "    else: return 0\n",
    "s1 = \"abb\"\n",
    "s2 = \"abba\"\n",
    "print(isPalindrome3(s1))\n",
    "print(isPalindrome3(s2))\n",
    "print(isPalindrome4(s1))\n",
    "print(isPalindrome4(s2))"
   ]
  },
  {
   "cell_type": "markdown",
   "id": "7fb019fd-bd6b-4288-9bc3-8083bf1cb1f4",
   "metadata": {
    "jp-MarkdownHeadingCollapsed": true
   },
   "source": [
    "#### 3. Find Duplicate characters in a string"
   ]
  },
  {
   "cell_type": "code",
   "execution_count": null,
   "id": "967c8fd0-c84c-4f8b-9060-e0cdda4c23fe",
   "metadata": {},
   "outputs": [],
   "source": [
    "'''Input: S = “geeksforgeeks”\n",
    "Output:\n",
    "e, count = 4\n",
    "g, count = 2\n",
    "k, count = 2\n",
    "s, count = 2'''"
   ]
  },
  {
   "cell_type": "markdown",
   "id": "40f7c988-3bda-4931-87b5-47fd1078456b",
   "metadata": {
    "jp-MarkdownHeadingCollapsed": true
   },
   "source": [
    "###### mtd-1 using dicitonary"
   ]
  },
  {
   "cell_type": "code",
   "execution_count": 18,
   "id": "c8acbb2c-d1aa-4447-8fe2-e76283946bde",
   "metadata": {},
   "outputs": [
    {
     "data": {
      "text/plain": [
       "{'h': 2, 'e': 3, '-': 8, 'u': 2, 'r': 2, 'o': 4}"
      ]
     },
     "execution_count": 18,
     "metadata": {},
     "output_type": "execute_result"
    }
   ],
   "source": [
    "def find_dup(s):\n",
    "    my_dict = {}  # Dictionary to store character counts\n",
    "\n",
    "    for i in range(len(s)):  \n",
    "        if s[i] in my_dict:  # If character already in dictionary, increment count\n",
    "            my_dict[s[i]] += 1 \n",
    "        else:  # Otherwise, add character with count 1\n",
    "            my_dict[s[i]] = 1\n",
    "\n",
    "    dict_of_dup = {}  # Dictionary to store only duplicate characters\n",
    "    for i in my_dict:  \n",
    "        if my_dict[i] > 1:  # If character appears more than once, add to dict_of_dup\n",
    "            dict_of_dup[i] = my_dict[i]\n",
    "    \n",
    "    return dict_of_dup  # Return dictionary of duplicates\n",
    "\n",
    "s = 'The-quick-brown-fox-jumps-over-the-lazy-dog'\n",
    "find_dup(s)"
   ]
  },
  {
   "cell_type": "code",
   "execution_count": 19,
   "id": "54504480-9934-4d2c-a07a-67826158bee6",
   "metadata": {},
   "outputs": [
    {
     "name": "stdout",
     "output_type": "stream",
     "text": [
      "{'h': 2, 'e': 3, '-': 8, 'u': 2, 'r': 2, 'o': 4}\n"
     ]
    }
   ],
   "source": [
    "def find_dup2(s):\n",
    "    my_dict = {}\n",
    "    for i in range(len(s)):\n",
    "        if s[i] in my_dict:\n",
    "            my_dict[s[i]] += 1\n",
    "        else:\n",
    "            my_dict[s[i]] = 1\n",
    "    dict_of_dup = {}\n",
    "    for i in my_dict:\n",
    "        if my_dict[i] > 1:\n",
    "            dict_of_dup[i] = my_dict[i]\n",
    "    return dict_of_dup\n",
    "        \n",
    "\n",
    "s = 'The-quick-brown-fox-jumps-over-the-lazy-dog'\n",
    "print(find_dup2(s))"
   ]
  },
  {
   "cell_type": "markdown",
   "id": "9141edfc-0ba2-4cf1-9544-65577a2a18c7",
   "metadata": {},
   "source": [
    "###### mtd-2 without using dicitonary"
   ]
  },
  {
   "cell_type": "code",
   "execution_count": 57,
   "id": "ce37744c-c123-426b-a494-493aabfa774f",
   "metadata": {},
   "outputs": [],
   "source": [
    "def find_dup2(s):\n",
    "    cl = list(s)\n",
    "    cl.sort()\n",
    "    a = []\n",
    "    i = 0\n",
    "    while i<len(cl):\n",
    "        count = 1\n",
    "        while i<len(cl)-1 and cl[i] == cl[i+1]:\n",
    "            count += 1\n",
    "            i += 1\n",
    "        if count > 1:\n",
    "            a.append((cl[i], count))\n",
    "            print(cl[i], count)\n",
    "\n",
    "        i += 1\n",
    "    return a"
   ]
  },
  {
   "cell_type": "code",
   "execution_count": 58,
   "id": "9f33baf7-f034-4050-bdf9-0078bfd863fa",
   "metadata": {},
   "outputs": [
    {
     "name": "stdout",
     "output_type": "stream",
     "text": [
      "- 8\n",
      "e 3\n",
      "h 2\n",
      "o 4\n",
      "r 2\n",
      "u 2\n"
     ]
    },
    {
     "data": {
      "text/plain": [
       "[('-', 8), ('e', 3), ('h', 2), ('o', 4), ('r', 2), ('u', 2)]"
      ]
     },
     "execution_count": 58,
     "metadata": {},
     "output_type": "execute_result"
    }
   ],
   "source": [
    "s = 'The-quick-brown-fox-jumps-over-the-lazy-dog'\n",
    "find_dup2(s)"
   ]
  },
  {
   "cell_type": "markdown",
   "id": "4d47bed1-6f56-4222-a2f5-cfdca4b92198",
   "metadata": {},
   "source": [
    "###### mtd-3 optimized"
   ]
  },
  {
   "cell_type": "code",
   "execution_count": 61,
   "id": "dc016714-7641-4631-a03d-cba917bcbc8e",
   "metadata": {},
   "outputs": [
    {
     "data": {
      "text/plain": [
       "[('h', 2), ('e', 3), ('-', 8), ('u', 2), ('r', 2), ('o', 4)]"
      ]
     },
     "execution_count": 61,
     "metadata": {},
     "output_type": "execute_result"
    }
   ],
   "source": [
    "def find_dup3(s):\n",
    "    a = []\n",
    "    i = 0\n",
    "    while i < len(s):\n",
    "        count = s.count(s[i])\n",
    "        if count > 1 and (s[i], count) not in a:\n",
    "            a.append((s[i], count))\n",
    "        i += 1\n",
    "    return a\n",
    "s = 'The-quick-brown-fox-jumps-over-the-lazy-dog'\n",
    "find_dup3(s)"
   ]
  },
  {
   "cell_type": "markdown",
   "id": "a11b1108-71db-449f-96d7-a996ebf34de4",
   "metadata": {
    "jp-MarkdownHeadingCollapsed": true
   },
   "source": [
    "#### 4. Write a Code to check whether one string is a rotation of another"
   ]
  },
  {
   "cell_type": "markdown",
   "id": "9401e4de-3721-47cb-a8bc-c155fbbf49a2",
   "metadata": {},
   "source": [
    "###### mtd-1 by brute force"
   ]
  },
  {
   "cell_type": "code",
   "execution_count": null,
   "id": "630a6b70-beb7-4e0a-b90c-881fb6f752f4",
   "metadata": {},
   "outputs": [],
   "source": [
    "def isRotation(s1, s2):\n",
    "    s11 = list(s1)\n",
    "    s22 = list(s2)\n",
    "    if s11[0] in s22:\n",
    "        i, j = 0, 0\n",
    "        \n",
    "        while j<len(s22) and s22[j] != s11[0]:\n",
    "            j += 1\n",
    "            \n",
    "        while i<len(s11) and  s11[i] == s22[j]:\n",
    "            i += 1\n",
    "            j = (j + 1) % len(s22)\n",
    "        \n",
    "        return i == len(s11)\n",
    "    return False"
   ]
  },
  {
   "cell_type": "code",
   "execution_count": 44,
   "id": "ce5ad0dc-122d-4eeb-ac8e-63f498c54db8",
   "metadata": {},
   "outputs": [
    {
     "name": "stdout",
     "output_type": "stream",
     "text": [
      "True\n",
      "False\n"
     ]
    }
   ],
   "source": [
    "# True Pair\n",
    "s1 = 'abcdefghijabcdefghijabcdefghijabcdefghijabcdefghij'\n",
    "s2 = 'fghijabcdefghijabcdefghijabcdefghijabcdefghijabcde'\n",
    "print(isRotation(s1, s2))  # Output: True\n",
    "\n",
    "# False Pair\n",
    "s1 = 'abcdefghijabcdefghijabcdefghijabcdefghijabcdefghij'\n",
    "s2 = 'abcdefghijabcdefghijabcdefghijabcdefghijabcdefgHij'\n",
    "print(isRotation(s1, s2))  # Output: False"
   ]
  },
  {
   "cell_type": "markdown",
   "id": "e7a9833b-20a4-41d0-a976-513ad251efbb",
   "metadata": {},
   "source": [
    "###### mtd-2 Optimized"
   ]
  },
  {
   "cell_type": "code",
   "execution_count": null,
   "id": "71a62a74-cf4b-47b9-ba25-498f61ed3572",
   "metadata": {},
   "outputs": [],
   "source": [
    "def isRotation(s1, s2):\n",
    "    if len(s1) != len(s2):\n",
    "        return False\n",
    "    return s2 in (s1 + s1)"
   ]
  },
  {
   "cell_type": "code",
   "execution_count": 46,
   "id": "cafea8dc-ae41-446a-9eb5-9bd4e8475d36",
   "metadata": {},
   "outputs": [
    {
     "name": "stdout",
     "output_type": "stream",
     "text": [
      "True\n",
      "False\n"
     ]
    }
   ],
   "source": [
    "# True Pair\n",
    "s1 = 'abcdefghijabcdefghijabcdefghijabcdefghijabcdefghij'\n",
    "s2 = 'fghijabcdefghijabcdefghijabcdefghijabcdefghijabcde'\n",
    "print(isRotation(s1, s2))  # Output: True\n",
    "\n",
    "# False Pair\n",
    "s1 = 'abcdefghijabcdefghijabcdefghijabcdefghijabcdefghij'\n",
    "s2 = 'abcdefghijabcdefghijabcdefghijabcdefghijabcdefgHij'\n",
    "print(isRotation(s1, s2))  # Output: False"
   ]
  },
  {
   "cell_type": "markdown",
   "id": "bd832f02-1bea-4d40-ad46-175dc4eff7c5",
   "metadata": {
    "jp-MarkdownHeadingCollapsed": true
   },
   "source": [
    "#### 5. Write a Program to check whether a string is a valid shuffle of two strings or not"
   ]
  },
  {
   "cell_type": "code",
   "execution_count": 298,
   "id": "149d6a0b-5fef-416e-bf4d-b38e91389ab5",
   "metadata": {},
   "outputs": [
    {
     "name": "stdout",
     "output_type": "stream",
     "text": [
      "['d', 'e', 'e', 'f', 'm', 'o', 'v', 'w']\n",
      "['v', 'f', 'o', 'm', 'd']\n"
     ]
    }
   ],
   "source": [
    "# testing\n",
    "a = 'ewe'\n",
    "b = 'vfomd'\n",
    "c = list(a+b)\n",
    "c.sort()\n",
    "c = list(c)\n",
    "print(c)\n",
    "b = list(b)\n",
    "print(b)"
   ]
  },
  {
   "cell_type": "markdown",
   "id": "00dbed3a-827f-4391-8b8b-b498be5c383c",
   "metadata": {},
   "source": [
    "###### mtd-1 By self logic"
   ]
  },
  {
   "cell_type": "code",
   "execution_count": 1,
   "id": "aea6458a-9bef-4d35-b46b-d1f1c38b81db",
   "metadata": {},
   "outputs": [],
   "source": [
    "def isInterleave(a, b, c, d = False):\n",
    "    if len(c) != len(a) + len(b):\n",
    "        return False\n",
    "        \n",
    "    i, j, k, swapFlag = 0, 0, 0, d\n",
    "    while i < len(c):\n",
    "        if j < len(a) and c[i] == a[j]:\n",
    "            j += 1\n",
    "        elif k < len(b) and c[i] == b[k]:\n",
    "            k += 1\n",
    "        else:\n",
    "            if not swapFlag:\n",
    "                # check if swapping a & b helps\n",
    "                # UPDATED due to last input not working\n",
    "                return isInterleave(b, a, c, True) \n",
    "            else:\n",
    "                return False\n",
    "        i += 1\n",
    "        \n",
    "    return j == len(a) and k == len(b)"
   ]
  },
  {
   "cell_type": "code",
   "execution_count": 2,
   "id": "d4dfefb0-ab7a-4a30-8fb8-28a12e885fd4",
   "metadata": {},
   "outputs": [
    {
     "name": "stdout",
     "output_type": "stream",
     "text": [
      "expctd_op --> [False, False, True, False, True]\n",
      "our op___ --> [False, False, True, False, True]\n"
     ]
    }
   ],
   "source": [
    "ip = [\n",
    "    (\"ab\", \"bc\", \"bbac\"),\n",
    "    (\"ef\", \"gh\", \"ehgf\"),\n",
    "    (\"a\", \"b\", \"ab\"),\n",
    "    (\"aabd\", \"abdc\", \"aabdbadc\"),\n",
    "    (\"aabd\", \"abdc\", \"aabdabcd\"),\n",
    "]\n",
    "results = [isInterleave(a,b,c) for a,b,c in ip]\n",
    "print('expctd_op -->', [False, False, True, False, True])\n",
    "print('our op___ -->', results)"
   ]
  },
  {
   "cell_type": "markdown",
   "id": "54f98b44-3a65-47ca-8f68-57b339abf95d",
   "metadata": {
    "jp-MarkdownHeadingCollapsed": true
   },
   "source": [
    "###### mtd-1b small improvement"
   ]
  },
  {
   "cell_type": "code",
   "execution_count": 111,
   "id": "2752407b-52f4-483b-a5f9-3a0d9fe667ee",
   "metadata": {},
   "outputs": [],
   "source": [
    "def isInterleave(a, b, c, d = False):\n",
    "    if len(c) != len(a) + len(b):\n",
    "        return False\n",
    "    i, j, k, sf = 0, 0, 0, d\n",
    "    while i<len(c):\n",
    "        if j < len(a) and c[i] == a[j]:\n",
    "            j += 1\n",
    "        elif k < len(b) and c[i] == b[k]:\n",
    "            k += 1\n",
    "        else:\n",
    "            return isInterleave(b, a, c, True) if not sf else False\n",
    "        i += 1\n",
    "    return j == len(a) and k == len(b)"
   ]
  },
  {
   "cell_type": "code",
   "execution_count": 112,
   "id": "b362a2ce-96ff-4ee4-9ba9-2c1371c88243",
   "metadata": {},
   "outputs": [
    {
     "name": "stdout",
     "output_type": "stream",
     "text": [
      "expctd_op --> [False, False, True, False, True]\n",
      "our op___ --> [False, False, True, False, True]\n"
     ]
    }
   ],
   "source": [
    "ip = [\n",
    "    (\"ab\", \"bc\", \"bbac\"),\n",
    "    (\"ef\", \"gh\", \"ehgf\"),\n",
    "    (\"a\", \"b\", \"ab\"),\n",
    "    (\"aabd\", \"abdc\", \"aabdbadc\"),\n",
    "    (\"aabd\", \"abdc\", \"aabdabcd\"),\n",
    "]\n",
    "results = [isInterleave(a,b,c) for a,b,c in ip]\n",
    "print('expctd_op -->', [False, False, True, False, True])\n",
    "print('our op___ -->', results)"
   ]
  },
  {
   "cell_type": "markdown",
   "id": "485264c0-20b5-4c88-90e5-39e40384ab14",
   "metadata": {
    "jp-MarkdownHeadingCollapsed": true
   },
   "source": [
    "###### mtd-2 By BackTracking"
   ]
  },
  {
   "cell_type": "code",
   "execution_count": 265,
   "id": "21ebb879-befa-411e-b6d2-d532b5ae4143",
   "metadata": {},
   "outputs": [],
   "source": [
    "def isInterleave(a, b, c):\n",
    "    if len(c) != len(a) + len(b):\n",
    "        return False\n",
    "\n",
    "    # Helper function for backtracking\n",
    "    def helper(i, j, k):\n",
    "        if k == len(c):  # If we've traversed all of C\n",
    "            return j == len(a) and i == len(b)\n",
    "\n",
    "        # Match character from A\n",
    "        if j < len(a) and c[k] == a[j]:\n",
    "            if helper(i, j + 1, k + 1):\n",
    "                return True\n",
    "\n",
    "        # Match character from B\n",
    "        if i < len(b) and c[k] == b[i]:\n",
    "            if helper(i + 1, j, k + 1):\n",
    "                return True\n",
    "\n",
    "        return False\n",
    "\n",
    "    # Start from the first character of each string\n",
    "    return helper(0, 0, 0)"
   ]
  },
  {
   "cell_type": "code",
   "execution_count": 267,
   "id": "c53d53a9-e637-4918-bbde-44813251a530",
   "metadata": {},
   "outputs": [
    {
     "name": "stdout",
     "output_type": "stream",
     "text": [
      "expctd_op --> [False, False, True, False, True]\n",
      "our op___ --> [False, False, True, False, True]\n"
     ]
    }
   ],
   "source": [
    "ip = [\n",
    "    (\"ab\", \"bc\", \"bbac\"),\n",
    "    (\"ef\", \"gh\", \"ehgf\"),\n",
    "    (\"a\", \"b\", \"ab\"),\n",
    "    (\"aabd\", \"abdc\", \"aabdbadc\"),\n",
    "    (\"aabd\", \"abdc\", \"aabdabcd\"),\n",
    "]\n",
    "op = [False, False, True, False, True]\n",
    "results = [isInterleave(a,b,c) for a,b,c in ip]\n",
    "print('expctd_op -->', op)\n",
    "print('our op___ -->', results)"
   ]
  },
  {
   "cell_type": "markdown",
   "id": "770f6716-7660-432a-8425-464f6a1a0777",
   "metadata": {
    "jp-MarkdownHeadingCollapsed": true
   },
   "source": [
    "###### mtd-3 using Dynamic programming"
   ]
  },
  {
   "cell_type": "code",
   "execution_count": 270,
   "id": "1e93ae42-c67c-4410-bf8a-4fea22d995b3",
   "metadata": {},
   "outputs": [],
   "source": [
    "def isInterleave(a, b, c):\n",
    "    # If length of C is not equal to the sum of lengths of A and B, return False\n",
    "    if len(c) != len(a) + len(b):\n",
    "        return False\n",
    "\n",
    "    # Create a DP table to store the results of subproblems\n",
    "    dp = [[False] * (len(b) + 1) for _ in range(len(a) + 1)]\n",
    "\n",
    "    # Initialize the DP table\n",
    "    dp[0][0] = True  # Empty A and empty B interleave to form empty C\n",
    "\n",
    "    # Fill the first row (interleaving B with empty A)\n",
    "    for j in range(1, len(b) + 1):\n",
    "        dp[0][j] = dp[0][j - 1] and c[j - 1] == b[j - 1]\n",
    "\n",
    "    # Fill the first column (interleaving A with empty B)\n",
    "    for i in range(1, len(a) + 1):\n",
    "        dp[i][0] = dp[i - 1][0] and c[i - 1] == a[i - 1]\n",
    "\n",
    "    # Fill the rest of the DP table\n",
    "    for i in range(1, len(a) + 1):\n",
    "        for j in range(1, len(b) + 1):\n",
    "            dp[i][j] = (dp[i - 1][j] and c[i + j - 1] == a[i - 1]) or \\\n",
    "                       (dp[i][j - 1] and c[i + j - 1] == b[j - 1])\n",
    "\n",
    "    return dp[len(a)][len(b)]"
   ]
  },
  {
   "cell_type": "code",
   "execution_count": 272,
   "id": "874c54de-fa51-48e1-bc81-37965e1dc473",
   "metadata": {},
   "outputs": [
    {
     "name": "stdout",
     "output_type": "stream",
     "text": [
      "expctd_op --> [False, False, True, False, True]\n",
      "our op___ --> [False, False, True, False, True]\n"
     ]
    }
   ],
   "source": [
    "# Test cases\n",
    "ip = [\n",
    "    (\"ab\", \"bc\", \"bbac\"),\n",
    "    (\"ef\", \"gh\", \"ehgf\"),\n",
    "    (\"a\", \"b\", \"ab\"),\n",
    "    (\"aabd\", \"abdc\", \"aabdbadc\"),\n",
    "    (\"aabd\", \"abdc\", \"aabdabcd\"),\n",
    "]\n",
    "op = [False, False, True, False, True]\n",
    "results = [isInterleave(a,b,c) for a,b,c in ip]\n",
    "print('expctd_op -->', op)\n",
    "print('our op___ -->', results)"
   ]
  },
  {
   "cell_type": "markdown",
   "id": "61d6fcb2-939c-410e-801c-c26d8554eaa8",
   "metadata": {
    "jp-MarkdownHeadingCollapsed": true
   },
   "source": [
    "#### 6. Count and Say problem"
   ]
  },
  {
   "cell_type": "code",
   "execution_count": null,
   "id": "36a92602-54af-4f86-ac96-8d2069308e45",
   "metadata": {},
   "outputs": [],
   "source": []
  },
  {
   "cell_type": "code",
   "execution_count": null,
   "id": "a580e67a-9d62-42b4-bc47-7b9de999a670",
   "metadata": {},
   "outputs": [],
   "source": []
  },
  {
   "cell_type": "code",
   "execution_count": null,
   "id": "bbd71aac-f613-447e-8e93-5777782212fe",
   "metadata": {},
   "outputs": [],
   "source": []
  },
  {
   "cell_type": "code",
   "execution_count": null,
   "id": "c9923292-be5e-40ff-b6c7-b3d91248d193",
   "metadata": {},
   "outputs": [],
   "source": []
  },
  {
   "cell_type": "code",
   "execution_count": null,
   "id": "4813ac01-d1df-49b5-b2b7-cdfd28eb028d",
   "metadata": {},
   "outputs": [],
   "source": []
  },
  {
   "cell_type": "markdown",
   "id": "8e16cb75-8db5-43c5-a126-b5cb04810052",
   "metadata": {
    "jp-MarkdownHeadingCollapsed": true
   },
   "source": [
    "#### 7. Write a program to find the longest Palindrome in a string.[ Longest palindromic Substring]"
   ]
  },
  {
   "cell_type": "code",
   "execution_count": null,
   "id": "f900df0f-1890-4516-bbee-d018a16c6c6a",
   "metadata": {},
   "outputs": [],
   "source": [
    "'''\n",
    "Input: s= \"aaaabbaa\"\n",
    "Output: \"aabbaa\"\n",
    "\n",
    "Input: s = \"abc\"\n",
    "Output: \"a\"\n",
    "\n",
    "Input: s = \"abacdfgdcaba\" \n",
    "Output: \"aba\"\n",
    "'''"
   ]
  },
  {
   "cell_type": "code",
   "execution_count": 104,
   "id": "cd5e4e75-dec6-4108-94f7-69bd63de6a29",
   "metadata": {},
   "outputs": [],
   "source": [
    "'''simple palindrome code'''\n",
    "def Longest_palindrome(s):\n",
    "    return s == s[::-1]"
   ]
  },
  {
   "cell_type": "markdown",
   "id": "400d32f3-7a89-4869-85ce-a1476e738413",
   "metadata": {
    "jp-MarkdownHeadingCollapsed": true
   },
   "source": [
    "###### mtd-1. Brute force"
   ]
  },
  {
   "cell_type": "code",
   "execution_count": 94,
   "id": "2832f399-e126-4fa8-ae48-4455a855e48a",
   "metadata": {},
   "outputs": [
    {
     "name": "stdout",
     "output_type": "stream",
     "text": [
      "aabbbbaa\n",
      "a\n",
      "aba\n",
      "'Input string is empty'\n"
     ]
    }
   ],
   "source": [
    "def isPaiindrome(s):\n",
    "    return s == s[::-1] # helper function\n",
    "    \n",
    "def longest_palindromic_substring(s):\n",
    "    if len(s) == 0:\n",
    "        # raise ValueError(\"Input string cannot be empty\")\n",
    "        # return \"*Input string is empty*\"\n",
    "        return repr(\"Input string is empty\")\n",
    "    longest = \"\"\n",
    "    for i in range(len(s)):\n",
    "        for j in range(i, len(s)):\n",
    "            sub = s[i:j+1]\n",
    "            if isPalindrome(sub) and len(sub) > len(longest):\n",
    "                longest = sub\n",
    "    return longest\n",
    "\n",
    "s1 = \"aabbbbaa\"\n",
    "s2 = \"abc\"\n",
    "s3 = \"abacdfgdcaba\"\n",
    "s4 = ''\n",
    "print(longest_palindromic_substring(s1))\n",
    "print(longest_palindromic_substring(s2))\n",
    "print(longest_palindromic_substring(s3))\n",
    "print(longest_palindromic_substring(s4))"
   ]
  },
  {
   "cell_type": "code",
   "execution_count": null,
   "id": "04303bd0-b6c0-4958-a7b8-1a4845d96818",
   "metadata": {},
   "outputs": [],
   "source": [
    "'''\n",
    "Check if the string is empty; if yes, return a message.\n",
    "Try all possible substrings using two loops.\n",
    "If a substring is a palindrome and longer than the current longest, update it.\n",
    "Return the longest palindrome found.\n",
    "O(n3)\n",
    "'''"
   ]
  },
  {
   "cell_type": "markdown",
   "id": "127a38b6-b5ca-4af2-a21d-75001876f154",
   "metadata": {
    "jp-MarkdownHeadingCollapsed": true
   },
   "source": [
    "###### mtd-2. recursive"
   ]
  },
  {
   "cell_type": "code",
   "execution_count": 105,
   "id": "2a7a4333-6de3-4929-af56-57e74eaec0c4",
   "metadata": {},
   "outputs": [
    {
     "name": "stdout",
     "output_type": "stream",
     "text": [
      "aabbbbaa\n",
      "a\n",
      "aba\n",
      "[Empty String]\n"
     ]
    }
   ],
   "source": [
    "def is_palindrome(s):\n",
    "    return s == s[::-1]\n",
    "\n",
    "def longest_palindrome_recursive(s, left, right):\n",
    "    if left > right:\n",
    "        return \"\"\n",
    "    \n",
    "    if is_palindrome(s[left:right+1]):\n",
    "        return s[left:right+1]\n",
    "    \n",
    "    left_sub = longest_palindrome_recursive(s, left+1, right)\n",
    "    right_sub = longest_palindrome_recursive(s, left, right-1)\n",
    "    \n",
    "    return left_sub if len(left_sub) > len(right_sub) else right_sub\n",
    "\n",
    "def longest_palindromic_substring(s):\n",
    "    if not s:\n",
    "        return \"[Empty String]\"\n",
    "    \n",
    "    return longest_palindrome_recursive(s, 0, len(s)-1)\n",
    "\n",
    "# Test cases\n",
    "s1 = \"aabbbbaa\"\n",
    "s2 = \"abc\"\n",
    "s3 = \"abacdfgdcaba\"\n",
    "s4 = ''\n",
    "print(longest_palindromic_substring(s1))\n",
    "print(longest_palindromic_substring(s2))\n",
    "print(longest_palindromic_substring(s3))\n",
    "print(longest_palindromic_substring(s4))"
   ]
  },
  {
   "cell_type": "code",
   "execution_count": null,
   "id": "a4aabf70-f418-4f95-89a1-1dbdac56d0e1",
   "metadata": {},
   "outputs": [],
   "source": [
    "'''\n",
    "most inefficient\n",
    "O(2^n)\n",
    "'''"
   ]
  },
  {
   "cell_type": "markdown",
   "id": "33a993a6-705c-4168-b5b7-2ce7d8bb6563",
   "metadata": {
    "jp-MarkdownHeadingCollapsed": true
   },
   "source": [
    "###### mtd-3. optimized - expand around center"
   ]
  },
  {
   "cell_type": "code",
   "execution_count": 113,
   "id": "ced249f5-5596-4391-b567-8fe159e6487d",
   "metadata": {
    "scrolled": true
   },
   "outputs": [
    {
     "name": "stdout",
     "output_type": "stream",
     "text": [
      "aabbbbaa\n",
      "a\n",
      "aba\n",
      "[Empty String]\n"
     ]
    }
   ],
   "source": [
    "def expand_around_center(s, left, right):\n",
    "    # Expands outward from the given center while it's a palindrom\n",
    "    while left >= 0 and right < len(s) and s[left] == s[right]:\n",
    "        left -= 1\n",
    "        right += 1\n",
    "    return s[left+1: right] # since inc and dec already occur # returning the longest valid palindrome substring\n",
    "\n",
    "def longest_palindrome_substring(s):\n",
    "    longest = ''\n",
    "    for i in range(len(s)):\n",
    "        # Check for odd-length palindrome (center at s[i])\n",
    "        odd_pal = expand_around_center(s, i, i)\n",
    "\n",
    "        # Check for even-length palindrome (center between s[i] and s[i+1])\n",
    "        even_pal = expand_around_center(s, i, i+1)\n",
    "\n",
    "        # Update (per iteration) longest if a longer palindrome is found\n",
    "        if len(odd_pal) > len(longest):\n",
    "            longest = odd_pal\n",
    "        elif len(even_pal) > len(longest):\n",
    "            longest = even_pal\n",
    "    return longest\n",
    "\n",
    "\n",
    "# Test cases\n",
    "s1 = \"aabbbbaa\"\n",
    "s2 = \"abc\"\n",
    "s3 = \"abacdfgdcaba\"\n",
    "s4 = ''\n",
    "print(longest_palindromic_substring(s1))\n",
    "print(longest_palindromic_substring(s2))\n",
    "print(longest_palindromic_substring(s3))\n",
    "print(longest_palindromic_substring(s4))"
   ]
  },
  {
   "cell_type": "code",
   "execution_count": null,
   "id": "cd4f922b-2ad2-4d0e-8951-ccb57cf8eb08",
   "metadata": {},
   "outputs": [],
   "source": [
    "'''\n",
    "O(n2)\n",
    "'''"
   ]
  },
  {
   "cell_type": "markdown",
   "id": "146cbc4c-2ee5-4ecf-b49a-4afcff3d2a4b",
   "metadata": {
    "jp-MarkdownHeadingCollapsed": true
   },
   "source": [
    "###### mtd-4. Most efficient - manacher algorithm"
   ]
  },
  {
   "cell_type": "code",
   "execution_count": 115,
   "id": "9868f56f-7dd0-4bdf-a131-49ff1ad50a9f",
   "metadata": {},
   "outputs": [
    {
     "name": "stdout",
     "output_type": "stream",
     "text": [
      "aabbbbaa\n",
      "c\n",
      "aba\n",
      "\n"
     ]
    }
   ],
   "source": [
    "def manacher(s):\n",
    "    # Transform string to handle even-length palindromes\n",
    "    T = '#'.join('^{}$'.format(s))  \n",
    "    n = len(T)\n",
    "    P = [0] * n  # Array to store palindrome radii\n",
    "    C = R = 0  # Center and right boundary of the current palindrome\n",
    "\n",
    "    for i in range(1, n - 1):\n",
    "        mirr = 2 * C - i  # Mirror index of i with respect to C\n",
    "        if i < R:\n",
    "            P[i] = min(R - i, P[mirr])  # Use previously computed value\n",
    "\n",
    "        # Expand around the center i\n",
    "        while T[i + P[i] + 1] == T[i - P[i] - 1]:\n",
    "            P[i] += 1\n",
    "\n",
    "        # Update center and right boundary if a larger palindrome is found\n",
    "        if i + P[i] > R:\n",
    "            C, R = i, i + P[i]\n",
    "\n",
    "    # Find the longest palindrome\n",
    "    max_len, center_index = max((n, i) for i, n in enumerate(P))\n",
    "    start = (center_index - max_len) // 2  # Convert back to original indices\n",
    "    return s[start: start + max_len]\n",
    "\n",
    "\n",
    "# Test cases\n",
    "s1 = \"aabbbbaa\"\n",
    "s2 = \"abc\"\n",
    "s3 = \"abacdfgdcaba\"\n",
    "s4 = ''\n",
    "print(manacher(s1))\n",
    "print(manacher(s2))\n",
    "print(manacher(s3))\n",
    "print(manacher(s4))"
   ]
  },
  {
   "cell_type": "code",
   "execution_count": null,
   "id": "9f919313-fb00-4ac5-bc2c-835193a13fd4",
   "metadata": {},
   "outputs": [],
   "source": [
    "'''\n",
    "Approach:\n",
    "Transform the input string to handle even-length palindromes uniformly.\n",
    "Use a center-expanding technique with a helper array P to store palindrome radii.\n",
    "Maintain a center and right boundary to optimize expansion.\n",
    "Extract the longest palindrome at the end.\n",
    "'''"
   ]
  },
  {
   "cell_type": "markdown",
   "id": "c96472e0-93ee-44a6-a08e-65d538a5b718",
   "metadata": {
    "jp-MarkdownHeadingCollapsed": true
   },
   "source": [
    "#### 8. Find Longest Recurring Subsequence in String"
   ]
  },
  {
   "cell_type": "code",
   "execution_count": null,
   "id": "22bd3660-a523-4640-9c38-17b4ddaf5aca",
   "metadata": {},
   "outputs": [],
   "source": []
  },
  {
   "cell_type": "code",
   "execution_count": null,
   "id": "60719631-4447-49ba-8aac-142e05e9e12b",
   "metadata": {},
   "outputs": [],
   "source": []
  },
  {
   "cell_type": "code",
   "execution_count": null,
   "id": "cb791bd1-1e2b-46bb-9790-886d55f0b9ac",
   "metadata": {},
   "outputs": [],
   "source": []
  },
  {
   "cell_type": "code",
   "execution_count": null,
   "id": "189864fa-ade9-4d07-a2b9-e02351c8746f",
   "metadata": {},
   "outputs": [],
   "source": []
  },
  {
   "cell_type": "code",
   "execution_count": null,
   "id": "c7ccea7d-2391-4275-9a9d-cb2841c14583",
   "metadata": {},
   "outputs": [],
   "source": []
  },
  {
   "cell_type": "markdown",
   "id": "34e9a306-428a-4dcc-9eed-5bc5ffa4f06e",
   "metadata": {
    "jp-MarkdownHeadingCollapsed": true
   },
   "source": [
    "#### 9. Print all Subsequences of a string"
   ]
  },
  {
   "cell_type": "code",
   "execution_count": null,
   "id": "eda1ccfc-4389-4a35-96ed-f13ba6e74fb0",
   "metadata": {},
   "outputs": [],
   "source": []
  },
  {
   "cell_type": "code",
   "execution_count": null,
   "id": "d6753f28-f045-4b8c-80b2-c448ca2a2c8b",
   "metadata": {},
   "outputs": [],
   "source": []
  },
  {
   "cell_type": "code",
   "execution_count": null,
   "id": "dab45749-abf5-4fcb-b93f-56a773073ccf",
   "metadata": {},
   "outputs": [],
   "source": []
  },
  {
   "cell_type": "code",
   "execution_count": null,
   "id": "c3dc1bd8-9ce9-4b4f-82b9-39b895ef93d3",
   "metadata": {},
   "outputs": [],
   "source": []
  },
  {
   "cell_type": "code",
   "execution_count": null,
   "id": "e1b910d1-1e73-45df-bfe4-6ada6b13bc91",
   "metadata": {},
   "outputs": [],
   "source": []
  },
  {
   "cell_type": "code",
   "execution_count": null,
   "id": "75dbb754-24a1-429e-bb1f-31d7f57b03a3",
   "metadata": {},
   "outputs": [],
   "source": []
  },
  {
   "cell_type": "markdown",
   "id": "0cc9c640-6d2f-42a3-a315-afa1112c24ef",
   "metadata": {
    "jp-MarkdownHeadingCollapsed": true
   },
   "source": [
    "#### 10. Print all the permutations of the given string"
   ]
  },
  {
   "cell_type": "code",
   "execution_count": null,
   "id": "c1a09d29-c87e-457a-ad6f-39c2f2988d1a",
   "metadata": {},
   "outputs": [],
   "source": []
  },
  {
   "cell_type": "code",
   "execution_count": null,
   "id": "974c47ad-260c-4fbd-b81b-850cfd71b6e8",
   "metadata": {},
   "outputs": [],
   "source": []
  },
  {
   "cell_type": "code",
   "execution_count": null,
   "id": "4316b8d6-9017-44ed-87c7-8e985cc629b2",
   "metadata": {},
   "outputs": [],
   "source": []
  },
  {
   "cell_type": "code",
   "execution_count": null,
   "id": "f136dd76-468c-47f3-872f-454bbef678e4",
   "metadata": {},
   "outputs": [],
   "source": []
  },
  {
   "cell_type": "code",
   "execution_count": null,
   "id": "813a161d-f9ba-4dea-82af-269f8ad8839f",
   "metadata": {},
   "outputs": [],
   "source": []
  },
  {
   "cell_type": "code",
   "execution_count": null,
   "id": "122367f1-fb05-4a09-ab80-f2111cac0f72",
   "metadata": {},
   "outputs": [],
   "source": []
  },
  {
   "cell_type": "markdown",
   "id": "5f36ed7f-ee40-4684-89d4-c9e4c6c81dd6",
   "metadata": {
    "jp-MarkdownHeadingCollapsed": true
   },
   "source": [
    "#### 11. Split the Binary string into two substring with equal 0’s and 1’s"
   ]
  },
  {
   "cell_type": "code",
   "execution_count": null,
   "id": "dcd70a81-f802-4b07-991b-de4c47cb6b16",
   "metadata": {},
   "outputs": [],
   "source": []
  },
  {
   "cell_type": "code",
   "execution_count": null,
   "id": "4c63bc1c-4c03-4ce5-b88e-39cde9fa436a",
   "metadata": {},
   "outputs": [],
   "source": []
  },
  {
   "cell_type": "code",
   "execution_count": null,
   "id": "dae4c424-db9b-4623-a02d-950e6fa7e058",
   "metadata": {},
   "outputs": [],
   "source": []
  },
  {
   "cell_type": "code",
   "execution_count": null,
   "id": "4c521abf-16dd-4c97-908f-3959b4e48eed",
   "metadata": {},
   "outputs": [],
   "source": []
  },
  {
   "cell_type": "code",
   "execution_count": null,
   "id": "50462b0e-0775-40a4-ac38-3c4d803ea70a",
   "metadata": {},
   "outputs": [],
   "source": []
  },
  {
   "cell_type": "code",
   "execution_count": null,
   "id": "45059ba2-06d1-44a0-b7d3-ce2b96316660",
   "metadata": {},
   "outputs": [],
   "source": []
  },
  {
   "cell_type": "markdown",
   "id": "a75487b0-f933-43e5-9c68-d98e87308eba",
   "metadata": {
    "jp-MarkdownHeadingCollapsed": true
   },
   "source": [
    "#### 12. Word Wrap Problem [VERY IMP]"
   ]
  },
  {
   "cell_type": "code",
   "execution_count": null,
   "id": "b5c7cd48-8b6a-4cbf-b475-35359cce76ce",
   "metadata": {},
   "outputs": [],
   "source": []
  },
  {
   "cell_type": "code",
   "execution_count": null,
   "id": "308cc091-effe-4504-a49e-7a09d84da7b7",
   "metadata": {},
   "outputs": [],
   "source": []
  },
  {
   "cell_type": "code",
   "execution_count": null,
   "id": "3b9d8f5b-fa03-4997-ae56-97470f87875e",
   "metadata": {},
   "outputs": [],
   "source": []
  },
  {
   "cell_type": "code",
   "execution_count": null,
   "id": "1cef39ca-1ea4-4c45-aff9-39cfbb4bf9a7",
   "metadata": {},
   "outputs": [],
   "source": []
  },
  {
   "cell_type": "code",
   "execution_count": null,
   "id": "25eb1b31-192f-40c3-af03-2df80ac6cedf",
   "metadata": {},
   "outputs": [],
   "source": []
  },
  {
   "cell_type": "markdown",
   "id": "814f38b8-1787-429e-bc17-11ae2579e660",
   "metadata": {
    "jp-MarkdownHeadingCollapsed": true
   },
   "source": [
    "#### 13. EDIT Distance [Very Imp]"
   ]
  },
  {
   "cell_type": "code",
   "execution_count": null,
   "id": "7d8b1ad8-c5a9-4e94-927a-7a364ece1fa5",
   "metadata": {},
   "outputs": [],
   "source": []
  },
  {
   "cell_type": "code",
   "execution_count": null,
   "id": "aaca1526-8e4f-4cd6-90c0-d31a2f001b4c",
   "metadata": {},
   "outputs": [],
   "source": []
  },
  {
   "cell_type": "code",
   "execution_count": null,
   "id": "e2bc95ad-55c8-49ba-a9b5-0caeaa12dbb6",
   "metadata": {},
   "outputs": [],
   "source": []
  },
  {
   "cell_type": "code",
   "execution_count": null,
   "id": "ab396872-d970-4b28-92f6-081c54cb71d7",
   "metadata": {},
   "outputs": [],
   "source": []
  },
  {
   "cell_type": "code",
   "execution_count": null,
   "id": "66fe12e5-923f-4473-b856-4f8227ba615d",
   "metadata": {},
   "outputs": [],
   "source": []
  },
  {
   "cell_type": "markdown",
   "id": "9d5394ce-c42a-4bf8-ab79-95e08c3b1ad7",
   "metadata": {
    "jp-MarkdownHeadingCollapsed": true
   },
   "source": [
    "#### 14. Find next greater number with same set of digits. [Very Very IMP]"
   ]
  },
  {
   "cell_type": "code",
   "execution_count": null,
   "id": "b0a13019-8dfd-4949-b72b-50c1b045d61b",
   "metadata": {},
   "outputs": [],
   "source": []
  },
  {
   "cell_type": "code",
   "execution_count": null,
   "id": "8b0e018f-dc48-4f52-8fb1-b6d8e0772c8f",
   "metadata": {},
   "outputs": [],
   "source": []
  },
  {
   "cell_type": "code",
   "execution_count": null,
   "id": "4be3dee8-7ce4-4367-8649-ebad29b4f3ba",
   "metadata": {},
   "outputs": [],
   "source": []
  },
  {
   "cell_type": "code",
   "execution_count": null,
   "id": "b3c03f6d-1079-4d14-a8f6-e014e5d98155",
   "metadata": {},
   "outputs": [],
   "source": []
  },
  {
   "cell_type": "code",
   "execution_count": null,
   "id": "abc65453-18fe-4171-ba9a-7bad55d37c75",
   "metadata": {},
   "outputs": [],
   "source": []
  },
  {
   "cell_type": "code",
   "execution_count": null,
   "id": "52379628-a5fd-433d-aa6a-5fe59df355f5",
   "metadata": {},
   "outputs": [],
   "source": []
  },
  {
   "cell_type": "markdown",
   "id": "93360a06-f6f1-4108-a584-15159478de41",
   "metadata": {
    "jp-MarkdownHeadingCollapsed": true
   },
   "source": [
    "#### 15. Balanced Parenthesis problem.[Imp]"
   ]
  },
  {
   "cell_type": "code",
   "execution_count": null,
   "id": "1287a533-9d4b-4ffa-a356-6bd104c4c495",
   "metadata": {},
   "outputs": [],
   "source": []
  },
  {
   "cell_type": "code",
   "execution_count": null,
   "id": "d4724872-3a42-4cec-9df5-e01599eaadd4",
   "metadata": {},
   "outputs": [],
   "source": []
  },
  {
   "cell_type": "code",
   "execution_count": null,
   "id": "1df987af-e35a-40ef-a6f1-b27bec7a051a",
   "metadata": {},
   "outputs": [],
   "source": []
  },
  {
   "cell_type": "code",
   "execution_count": null,
   "id": "fae5045d-3d3a-4198-a56c-2007582c437e",
   "metadata": {},
   "outputs": [],
   "source": []
  },
  {
   "cell_type": "code",
   "execution_count": null,
   "id": "0271fa63-8aac-4ec2-837c-772d72da9b68",
   "metadata": {},
   "outputs": [],
   "source": []
  },
  {
   "cell_type": "markdown",
   "id": "cf9b528a-5116-42d1-a8ca-d84af12596cf",
   "metadata": {
    "jp-MarkdownHeadingCollapsed": true
   },
   "source": [
    "#### 16. Word break Problem[ Very Imp]"
   ]
  },
  {
   "cell_type": "code",
   "execution_count": null,
   "id": "f8f6b463-4853-4d01-ba53-36a1e6185997",
   "metadata": {},
   "outputs": [],
   "source": []
  },
  {
   "cell_type": "code",
   "execution_count": null,
   "id": "6d792ad7-fc5b-47ce-a1bc-c14b47afba4f",
   "metadata": {},
   "outputs": [],
   "source": []
  },
  {
   "cell_type": "code",
   "execution_count": null,
   "id": "0e50aef8-cabd-414e-9dc9-6d8e3bf4c94a",
   "metadata": {},
   "outputs": [],
   "source": []
  },
  {
   "cell_type": "code",
   "execution_count": null,
   "id": "335736e3-5c3a-42aa-af07-3226e560f5a4",
   "metadata": {},
   "outputs": [],
   "source": []
  },
  {
   "cell_type": "code",
   "execution_count": null,
   "id": "875d2dad-270a-4b80-b0b1-252b512bff7b",
   "metadata": {},
   "outputs": [],
   "source": []
  },
  {
   "cell_type": "code",
   "execution_count": null,
   "id": "bd7532be-d0a8-40c0-9328-60f07b2494e9",
   "metadata": {},
   "outputs": [],
   "source": []
  },
  {
   "cell_type": "code",
   "execution_count": null,
   "id": "c147addf-d2cc-4136-b96e-56b334438ab8",
   "metadata": {},
   "outputs": [],
   "source": []
  },
  {
   "cell_type": "code",
   "execution_count": null,
   "id": "d7791e4a-cd2c-4ac1-8be9-6d813a463105",
   "metadata": {},
   "outputs": [],
   "source": []
  },
  {
   "cell_type": "code",
   "execution_count": null,
   "id": "8b7bf621-2672-4a3e-be4c-f0eb4f677e6e",
   "metadata": {},
   "outputs": [],
   "source": []
  },
  {
   "cell_type": "code",
   "execution_count": null,
   "id": "06515e98-a96b-401f-bfb3-63fd1b68b85b",
   "metadata": {},
   "outputs": [],
   "source": []
  },
  {
   "cell_type": "code",
   "execution_count": null,
   "id": "37b73ee4-b763-4896-b61f-872be7c10481",
   "metadata": {},
   "outputs": [],
   "source": []
  },
  {
   "cell_type": "code",
   "execution_count": null,
   "id": "b9501b72-0ee2-4ff2-8c78-1fed459bdebc",
   "metadata": {},
   "outputs": [],
   "source": []
  },
  {
   "cell_type": "code",
   "execution_count": null,
   "id": "fe852daa-c92e-45b0-b408-5c076c9fa9b8",
   "metadata": {},
   "outputs": [],
   "source": []
  },
  {
   "cell_type": "code",
   "execution_count": null,
   "id": "c961d42a-aa86-4fb0-9c9b-c2729bc15856",
   "metadata": {},
   "outputs": [],
   "source": []
  },
  {
   "cell_type": "code",
   "execution_count": null,
   "id": "1f61e92c-32ea-4b4b-9764-be21774a2da9",
   "metadata": {},
   "outputs": [],
   "source": []
  },
  {
   "cell_type": "code",
   "execution_count": null,
   "id": "87c58cdb-7b6c-497e-9634-5bd008d295d6",
   "metadata": {},
   "outputs": [],
   "source": []
  },
  {
   "cell_type": "code",
   "execution_count": null,
   "id": "a89cbf46-8d08-431c-850c-2c64acb2a27f",
   "metadata": {},
   "outputs": [],
   "source": []
  },
  {
   "cell_type": "code",
   "execution_count": null,
   "id": "da679bb3-08d7-4af2-af53-0f5e4a25edab",
   "metadata": {},
   "outputs": [],
   "source": []
  },
  {
   "cell_type": "code",
   "execution_count": null,
   "id": "1ef68cbf-c7e2-4477-b5a2-1c1a7341dfb0",
   "metadata": {},
   "outputs": [],
   "source": []
  },
  {
   "cell_type": "code",
   "execution_count": null,
   "id": "19be9b92-a5ec-4131-a068-222385f1a0c7",
   "metadata": {},
   "outputs": [],
   "source": []
  },
  {
   "cell_type": "code",
   "execution_count": null,
   "id": "82953dc5-5f57-42c9-a720-86ef911b1779",
   "metadata": {},
   "outputs": [],
   "source": []
  },
  {
   "cell_type": "code",
   "execution_count": null,
   "id": "ba65fe81-d58f-4cd3-b7a5-07ca798022c9",
   "metadata": {},
   "outputs": [],
   "source": []
  },
  {
   "cell_type": "code",
   "execution_count": null,
   "id": "3ebbd0e4-149a-4c75-98b1-f69857934c29",
   "metadata": {},
   "outputs": [],
   "source": []
  },
  {
   "cell_type": "code",
   "execution_count": null,
   "id": "a1ba483b-ef15-4ebe-be96-a4c08b126b0d",
   "metadata": {},
   "outputs": [],
   "source": []
  },
  {
   "cell_type": "code",
   "execution_count": null,
   "id": "ca4f80c8-d31d-4507-b8b8-3e6e2ab957c9",
   "metadata": {},
   "outputs": [],
   "source": []
  },
  {
   "cell_type": "code",
   "execution_count": null,
   "id": "26b60385-6fa5-4809-9310-f304e4db586f",
   "metadata": {},
   "outputs": [],
   "source": []
  },
  {
   "cell_type": "code",
   "execution_count": null,
   "id": "5d0d612d-b368-41e3-9186-4afb2d6539ac",
   "metadata": {},
   "outputs": [],
   "source": []
  },
  {
   "cell_type": "code",
   "execution_count": null,
   "id": "22e96c06-0e65-4aab-a606-8295c6dff5be",
   "metadata": {},
   "outputs": [],
   "source": []
  },
  {
   "cell_type": "code",
   "execution_count": null,
   "id": "01206ad4-d5fa-4b1e-acb6-277ebd13c75a",
   "metadata": {},
   "outputs": [],
   "source": []
  },
  {
   "cell_type": "code",
   "execution_count": null,
   "id": "43bba24d-105c-4c8e-a945-7b797ddf96af",
   "metadata": {},
   "outputs": [],
   "source": []
  },
  {
   "cell_type": "code",
   "execution_count": null,
   "id": "60556100-1ea1-465c-8456-978706583bbe",
   "metadata": {},
   "outputs": [],
   "source": []
  },
  {
   "cell_type": "code",
   "execution_count": null,
   "id": "47e26c5d-3c68-466c-8175-71192b2e2a33",
   "metadata": {},
   "outputs": [],
   "source": []
  },
  {
   "cell_type": "code",
   "execution_count": null,
   "id": "dec07504-1f67-49f1-897c-30200b33b00b",
   "metadata": {},
   "outputs": [],
   "source": []
  },
  {
   "cell_type": "code",
   "execution_count": null,
   "id": "7028b3b5-b57f-4be6-82ea-1f76bef15450",
   "metadata": {},
   "outputs": [],
   "source": []
  },
  {
   "cell_type": "code",
   "execution_count": null,
   "id": "c2a28b16-cf72-4c51-ac8c-393b2e6fe745",
   "metadata": {},
   "outputs": [],
   "source": []
  },
  {
   "cell_type": "code",
   "execution_count": null,
   "id": "cf05494c-6b13-4095-9082-473aeaef23e7",
   "metadata": {},
   "outputs": [],
   "source": []
  },
  {
   "cell_type": "code",
   "execution_count": null,
   "id": "e885b269-c3c3-4407-ab01-373fae1e6ae0",
   "metadata": {},
   "outputs": [],
   "source": []
  },
  {
   "cell_type": "code",
   "execution_count": null,
   "id": "383fc9a4-d2a0-459f-afa6-6f053dbd871e",
   "metadata": {},
   "outputs": [],
   "source": []
  },
  {
   "cell_type": "code",
   "execution_count": null,
   "id": "9fdfbe0f-aeb9-47a7-a351-df728ac093e3",
   "metadata": {},
   "outputs": [],
   "source": []
  },
  {
   "cell_type": "code",
   "execution_count": null,
   "id": "eb8c69da-6ab5-4799-a7e2-32fbdeec230d",
   "metadata": {},
   "outputs": [],
   "source": []
  },
  {
   "cell_type": "code",
   "execution_count": null,
   "id": "d82265db-c93c-4719-914e-f9cc0badaada",
   "metadata": {},
   "outputs": [],
   "source": []
  },
  {
   "cell_type": "code",
   "execution_count": null,
   "id": "6a105e9d-180d-4646-bb45-55a0e16a7ad8",
   "metadata": {},
   "outputs": [],
   "source": []
  },
  {
   "cell_type": "code",
   "execution_count": null,
   "id": "46ed2f14-a874-489f-b4d7-ab93a848e024",
   "metadata": {},
   "outputs": [],
   "source": []
  },
  {
   "cell_type": "code",
   "execution_count": null,
   "id": "6eed1cd7-918e-418f-8152-157f2b7c0c32",
   "metadata": {},
   "outputs": [],
   "source": []
  },
  {
   "cell_type": "code",
   "execution_count": null,
   "id": "9c815b7b-fcd4-4f52-a6d4-fc871186c426",
   "metadata": {},
   "outputs": [],
   "source": []
  },
  {
   "cell_type": "code",
   "execution_count": null,
   "id": "2097db16-78b1-46c1-b1d2-a0efddfbf36d",
   "metadata": {},
   "outputs": [],
   "source": []
  },
  {
   "cell_type": "code",
   "execution_count": null,
   "id": "a69f9751-51e7-4e53-b890-d34e11d64bee",
   "metadata": {},
   "outputs": [],
   "source": []
  },
  {
   "cell_type": "code",
   "execution_count": null,
   "id": "31d2c9bb-3ed8-4936-afc6-7aadcb4cfdd5",
   "metadata": {},
   "outputs": [],
   "source": []
  },
  {
   "cell_type": "code",
   "execution_count": null,
   "id": "025e6ed7-8c9d-41a1-ba90-6cf13660be83",
   "metadata": {},
   "outputs": [],
   "source": []
  },
  {
   "cell_type": "code",
   "execution_count": null,
   "id": "557a258e-4765-4443-9a5c-579a5def7f7c",
   "metadata": {},
   "outputs": [],
   "source": []
  },
  {
   "cell_type": "code",
   "execution_count": null,
   "id": "1f0fd20d-1434-4fe0-9248-99b26374905d",
   "metadata": {},
   "outputs": [],
   "source": []
  },
  {
   "cell_type": "code",
   "execution_count": null,
   "id": "2b5a06bc-c104-4cfb-b985-289e0cdbb257",
   "metadata": {},
   "outputs": [],
   "source": []
  },
  {
   "cell_type": "code",
   "execution_count": null,
   "id": "663a93f8-a1ef-4161-89e1-2c4f63a76cfe",
   "metadata": {},
   "outputs": [],
   "source": []
  },
  {
   "cell_type": "code",
   "execution_count": null,
   "id": "1f9261f0-2558-4b64-9f2d-ad79d829fe23",
   "metadata": {},
   "outputs": [],
   "source": []
  },
  {
   "cell_type": "code",
   "execution_count": null,
   "id": "39bbc3cd-f406-47a9-a50a-cad4803d6d33",
   "metadata": {},
   "outputs": [],
   "source": []
  },
  {
   "cell_type": "code",
   "execution_count": null,
   "id": "9964e97a-6860-497f-9f8f-0883dfdda9af",
   "metadata": {},
   "outputs": [],
   "source": []
  },
  {
   "cell_type": "code",
   "execution_count": null,
   "id": "806c32fa-55d6-4f49-9cf5-37c3fd990c55",
   "metadata": {},
   "outputs": [],
   "source": []
  },
  {
   "cell_type": "code",
   "execution_count": null,
   "id": "3bbb4799-2c16-4855-ad86-b5b7e8f4ccb2",
   "metadata": {},
   "outputs": [],
   "source": []
  },
  {
   "cell_type": "code",
   "execution_count": null,
   "id": "a43ce661-098b-4ef7-9bd6-1c4e886cd0df",
   "metadata": {},
   "outputs": [],
   "source": []
  },
  {
   "cell_type": "code",
   "execution_count": null,
   "id": "7c3cdcd4-1a79-4826-83e1-b94b3de94e02",
   "metadata": {},
   "outputs": [],
   "source": []
  },
  {
   "cell_type": "code",
   "execution_count": null,
   "id": "7c3a490e-5f28-4900-a2b3-8d215ea6329e",
   "metadata": {},
   "outputs": [],
   "source": []
  },
  {
   "cell_type": "code",
   "execution_count": null,
   "id": "d07fe72f-b706-486b-b705-07dd0e23dd6d",
   "metadata": {},
   "outputs": [],
   "source": []
  },
  {
   "cell_type": "code",
   "execution_count": null,
   "id": "d480edba-af8b-4702-ae43-c2bc77c7eed4",
   "metadata": {},
   "outputs": [],
   "source": []
  },
  {
   "cell_type": "code",
   "execution_count": null,
   "id": "68124657-5201-405b-bbaf-1f1f1270e3d8",
   "metadata": {},
   "outputs": [],
   "source": []
  },
  {
   "cell_type": "code",
   "execution_count": null,
   "id": "d0d159c7-8992-478a-82c8-347bb3823934",
   "metadata": {},
   "outputs": [],
   "source": []
  },
  {
   "cell_type": "code",
   "execution_count": null,
   "id": "b3f5a564-4915-40b9-92a6-2e2d2678ac5d",
   "metadata": {},
   "outputs": [],
   "source": []
  },
  {
   "cell_type": "code",
   "execution_count": null,
   "id": "71684ff9-bb8b-4676-83d9-129fc80f4eb1",
   "metadata": {},
   "outputs": [],
   "source": []
  },
  {
   "cell_type": "code",
   "execution_count": null,
   "id": "9c6755c2-f20d-40ad-9ab7-e30c4efad317",
   "metadata": {},
   "outputs": [],
   "source": []
  },
  {
   "cell_type": "code",
   "execution_count": null,
   "id": "142c7873-00a7-42ab-8ec7-6d311911af9c",
   "metadata": {},
   "outputs": [],
   "source": []
  },
  {
   "cell_type": "code",
   "execution_count": null,
   "id": "043e58fa-10ac-4ebd-836d-6f55e5f51ae8",
   "metadata": {},
   "outputs": [],
   "source": []
  },
  {
   "cell_type": "code",
   "execution_count": null,
   "id": "eacced4f-b212-44b3-808a-25b79868f355",
   "metadata": {},
   "outputs": [],
   "source": []
  },
  {
   "cell_type": "code",
   "execution_count": null,
   "id": "a0ac7670-0103-414d-8630-01cc7dcad1b8",
   "metadata": {},
   "outputs": [],
   "source": []
  },
  {
   "cell_type": "code",
   "execution_count": null,
   "id": "ced87ef9-881e-46f9-81e6-9e83ff255e2f",
   "metadata": {},
   "outputs": [],
   "source": []
  },
  {
   "cell_type": "code",
   "execution_count": null,
   "id": "62c13b65-96cd-416c-a635-c629b04fca95",
   "metadata": {},
   "outputs": [],
   "source": []
  },
  {
   "cell_type": "code",
   "execution_count": null,
   "id": "74b084d6-68d5-444b-94dc-1b336676f117",
   "metadata": {},
   "outputs": [],
   "source": []
  },
  {
   "cell_type": "code",
   "execution_count": null,
   "id": "7505e2f9-8445-4e12-af80-0fd722ab8e03",
   "metadata": {},
   "outputs": [],
   "source": []
  },
  {
   "cell_type": "code",
   "execution_count": null,
   "id": "fc37b26b-fcc5-40e8-abae-313621444545",
   "metadata": {},
   "outputs": [],
   "source": []
  },
  {
   "cell_type": "code",
   "execution_count": null,
   "id": "7c8aa836-9586-4235-becf-a6b06c2fdccb",
   "metadata": {},
   "outputs": [],
   "source": []
  },
  {
   "cell_type": "code",
   "execution_count": null,
   "id": "e4961b7f-9c0b-4d6b-a08c-b8e73abd5607",
   "metadata": {},
   "outputs": [],
   "source": []
  },
  {
   "cell_type": "code",
   "execution_count": null,
   "id": "765df81a-a165-4873-8eb0-56c65a033f47",
   "metadata": {},
   "outputs": [],
   "source": []
  },
  {
   "cell_type": "code",
   "execution_count": null,
   "id": "2ef24e0a-a93a-4bcb-9a43-641fa134dfa5",
   "metadata": {},
   "outputs": [],
   "source": []
  },
  {
   "cell_type": "code",
   "execution_count": null,
   "id": "1f8311f5-8882-4ac7-86c3-0871b4c258f3",
   "metadata": {},
   "outputs": [],
   "source": []
  },
  {
   "cell_type": "code",
   "execution_count": null,
   "id": "3ac87024-7872-4d1f-982b-ffb214a593ef",
   "metadata": {},
   "outputs": [],
   "source": []
  },
  {
   "cell_type": "code",
   "execution_count": null,
   "id": "ee39d712-fa64-4a91-ac0d-ca5dcd89e18a",
   "metadata": {},
   "outputs": [],
   "source": []
  },
  {
   "cell_type": "code",
   "execution_count": null,
   "id": "7bbbac3b-6881-4fee-a733-fa65267d0c92",
   "metadata": {},
   "outputs": [],
   "source": []
  },
  {
   "cell_type": "code",
   "execution_count": null,
   "id": "35b765d3-83d5-4acb-9312-bd51e569e74c",
   "metadata": {},
   "outputs": [],
   "source": []
  },
  {
   "cell_type": "code",
   "execution_count": null,
   "id": "1e857b31-b275-402b-806c-6cb2529cdb64",
   "metadata": {},
   "outputs": [],
   "source": []
  },
  {
   "cell_type": "code",
   "execution_count": null,
   "id": "d0953ba5-9c4b-41c3-a2a3-fbdea050be28",
   "metadata": {},
   "outputs": [],
   "source": []
  },
  {
   "cell_type": "code",
   "execution_count": null,
   "id": "699a6b5a-dee2-4cc3-8ccf-13f55913947a",
   "metadata": {},
   "outputs": [],
   "source": []
  },
  {
   "cell_type": "code",
   "execution_count": null,
   "id": "6a35088a-cae1-4f2e-8046-5a5a742e34cb",
   "metadata": {},
   "outputs": [],
   "source": []
  },
  {
   "cell_type": "code",
   "execution_count": null,
   "id": "a4c25bcf-3e4d-4db2-aa1a-88358d4568e8",
   "metadata": {},
   "outputs": [],
   "source": []
  },
  {
   "cell_type": "code",
   "execution_count": null,
   "id": "7cbe855d-c461-4a4e-940e-83e64f97b173",
   "metadata": {},
   "outputs": [],
   "source": []
  },
  {
   "cell_type": "code",
   "execution_count": null,
   "id": "1e5af730-21ee-4c13-bcfb-22bc39ff213c",
   "metadata": {},
   "outputs": [],
   "source": []
  },
  {
   "cell_type": "code",
   "execution_count": null,
   "id": "075465b2-2ace-42cd-98e3-f37b1d1cce15",
   "metadata": {},
   "outputs": [],
   "source": []
  },
  {
   "cell_type": "code",
   "execution_count": null,
   "id": "0194ea33-1fec-448e-b54b-03ec6d198802",
   "metadata": {},
   "outputs": [],
   "source": []
  },
  {
   "cell_type": "code",
   "execution_count": null,
   "id": "f0e0f044-03f7-44ae-b373-14db8916cf52",
   "metadata": {},
   "outputs": [],
   "source": []
  },
  {
   "cell_type": "code",
   "execution_count": null,
   "id": "b9ec2678-f780-48d7-b272-0248271e375f",
   "metadata": {},
   "outputs": [],
   "source": []
  },
  {
   "cell_type": "code",
   "execution_count": null,
   "id": "b7cd4783-0ba9-4c92-8755-7ca5f28c7fc8",
   "metadata": {},
   "outputs": [],
   "source": []
  },
  {
   "cell_type": "code",
   "execution_count": null,
   "id": "3b616408-7116-418f-985d-b7585b8ca894",
   "metadata": {},
   "outputs": [],
   "source": []
  },
  {
   "cell_type": "code",
   "execution_count": null,
   "id": "7e17eebe-bed8-4eb9-9850-d7e9bac8fa64",
   "metadata": {},
   "outputs": [],
   "source": []
  },
  {
   "cell_type": "code",
   "execution_count": null,
   "id": "0c1a9ee3-7483-4c76-ac84-52074d66c341",
   "metadata": {},
   "outputs": [],
   "source": []
  },
  {
   "cell_type": "code",
   "execution_count": null,
   "id": "eb309d12-3886-4c5f-a5d4-ccf88f163e07",
   "metadata": {},
   "outputs": [],
   "source": []
  },
  {
   "cell_type": "code",
   "execution_count": null,
   "id": "48d28711-75c9-4542-b4da-051011a5b32a",
   "metadata": {},
   "outputs": [],
   "source": []
  },
  {
   "cell_type": "code",
   "execution_count": null,
   "id": "3e3b772d-9e3d-4f73-8b8f-e6c2eab2e510",
   "metadata": {},
   "outputs": [],
   "source": []
  },
  {
   "cell_type": "code",
   "execution_count": null,
   "id": "4ad653d0-8555-459f-af4f-42894bf2fd50",
   "metadata": {},
   "outputs": [],
   "source": []
  },
  {
   "cell_type": "code",
   "execution_count": null,
   "id": "70f416a0-33ac-42e1-94e1-d1c4adf99ecc",
   "metadata": {},
   "outputs": [],
   "source": []
  },
  {
   "cell_type": "code",
   "execution_count": null,
   "id": "f2479aea-7200-404f-8f23-98fe0ff009c1",
   "metadata": {},
   "outputs": [],
   "source": []
  },
  {
   "cell_type": "code",
   "execution_count": null,
   "id": "2846b17c-0a9e-4264-b115-86fce3d8e54a",
   "metadata": {},
   "outputs": [],
   "source": []
  },
  {
   "cell_type": "code",
   "execution_count": null,
   "id": "e2d36ef7-62d7-480e-85f5-7d5ce5b23362",
   "metadata": {},
   "outputs": [],
   "source": []
  },
  {
   "cell_type": "code",
   "execution_count": null,
   "id": "739e1aac-ed2b-425b-8e91-6d2a3706335c",
   "metadata": {},
   "outputs": [],
   "source": []
  },
  {
   "cell_type": "code",
   "execution_count": null,
   "id": "a5996970-fcf7-4a07-917b-21d8c9f9f8be",
   "metadata": {},
   "outputs": [],
   "source": []
  },
  {
   "cell_type": "code",
   "execution_count": null,
   "id": "a1d94777-d96d-4753-ab95-61320422a37e",
   "metadata": {},
   "outputs": [],
   "source": []
  },
  {
   "cell_type": "code",
   "execution_count": null,
   "id": "6f1dbfd5-2be0-4939-9af1-11dbc6c91ae9",
   "metadata": {},
   "outputs": [],
   "source": []
  },
  {
   "cell_type": "code",
   "execution_count": null,
   "id": "40f96c7d-460d-4a93-8bee-9cb1e1da0517",
   "metadata": {},
   "outputs": [],
   "source": []
  },
  {
   "cell_type": "code",
   "execution_count": null,
   "id": "61f3cfd5-f65a-45d6-80d4-de4f205da3bd",
   "metadata": {},
   "outputs": [],
   "source": []
  },
  {
   "cell_type": "code",
   "execution_count": null,
   "id": "03afd022-8931-4647-9dac-0d8b1326dc84",
   "metadata": {},
   "outputs": [],
   "source": []
  },
  {
   "cell_type": "code",
   "execution_count": null,
   "id": "1583b73d-c4f6-4811-9e92-8fdbe235dde5",
   "metadata": {},
   "outputs": [],
   "source": []
  },
  {
   "cell_type": "code",
   "execution_count": null,
   "id": "42427742-cbb7-4a55-844a-039610375175",
   "metadata": {},
   "outputs": [],
   "source": []
  }
 ],
 "metadata": {
  "kernelspec": {
   "display_name": "Python 3 (ipykernel)",
   "language": "python",
   "name": "python3"
  },
  "language_info": {
   "codemirror_mode": {
    "name": "ipython",
    "version": 3
   },
   "file_extension": ".py",
   "mimetype": "text/x-python",
   "name": "python",
   "nbconvert_exporter": "python",
   "pygments_lexer": "ipython3",
   "version": "3.12.4"
  }
 },
 "nbformat": 4,
 "nbformat_minor": 5
}
